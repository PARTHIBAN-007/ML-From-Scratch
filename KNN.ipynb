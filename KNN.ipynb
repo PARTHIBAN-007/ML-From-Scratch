{
 "cells": [
  {
   "cell_type": "code",
   "execution_count": 9,
   "metadata": {},
   "outputs": [],
   "source": [
    "import numpy as np\n",
    "from collections import Counter"
   ]
  },
  {
   "cell_type": "code",
   "execution_count": 10,
   "metadata": {},
   "outputs": [],
   "source": [
    "class KNearestNeighbors:\n",
    "    def __init__(self,k=3):\n",
    "        self.k= k\n",
    "\n",
    "    def fit(self,x,y):\n",
    "        self.x_train = x\n",
    "        self.y_train = y\n",
    "\n",
    "    def predict(self,x):\n",
    "        predictions = [self._predict(x) for x in x]    \n",
    "        return np.array(predictions)\n",
    "    \n",
    "    def _predict(self,x):\n",
    "        distances = [self.euclidean_distance(x,x_train) for x_train in self.x_train]\n",
    "        k_indices = np.argsort(distances)[:self.k]\n",
    "        k_nearest_labels = [self.y_train[i] for i in k_indices]\n",
    "\n",
    "        # Return the most common label\n",
    "        most_common = Counter(k_nearest_labels).most_common(1)\n",
    "        return most_common[0][0]\n",
    "\n",
    "    def euclidean_distance(self, x1, x2):\n",
    "        return np.sqrt(np.sum((x1 - x2) ** 2))"
   ]
  },
  {
   "cell_type": "code",
   "execution_count": 13,
   "metadata": {},
   "outputs": [
    {
     "name": "stdout",
     "output_type": "stream",
     "text": [
      "Predictions: ['Male' 'Female']\n"
     ]
    }
   ],
   "source": [
    "\n",
    "    # Sample dataset (Features: [Height, Weight] | Labels: Gender)\n",
    "X_train = np.array([\n",
    "    [170, 70],\n",
    "    [160, 60],\n",
    "    [180, 80],\n",
    "    [150, 50],\n",
    "    [175, 65]\n",
    "])\n",
    "y_train = np.array(['Male', 'Female', 'Male', 'Female', 'Male'])\n",
    "\n",
    "# Create and train KNN classifier\n",
    "knn = KNearestNeighbors(k=3)\n",
    "knn.fit(X_train, y_train)\n",
    "\n",
    "# Test the classifier\n",
    "X_test = np.array([\n",
    "    [172, 68],\n",
    "    [162, 55]\n",
    "])\n",
    "\n",
    "# Predictions\n",
    "predictions = knn.predict(X_test)\n",
    "print(\"Predictions:\", predictions)"
   ]
  }
 ],
 "metadata": {
  "kernelspec": {
   "display_name": "base",
   "language": "python",
   "name": "python3"
  },
  "language_info": {
   "codemirror_mode": {
    "name": "ipython",
    "version": 3
   },
   "file_extension": ".py",
   "mimetype": "text/x-python",
   "name": "python",
   "nbconvert_exporter": "python",
   "pygments_lexer": "ipython3",
   "version": "3.12.4"
  }
 },
 "nbformat": 4,
 "nbformat_minor": 2
}
