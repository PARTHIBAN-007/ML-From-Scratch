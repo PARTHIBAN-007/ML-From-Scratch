{
 "cells": [
  {
   "cell_type": "code",
   "execution_count": 9,
   "metadata": {},
   "outputs": [],
   "source": [
    "import numpy as np\n"
   ]
  },
  {
   "cell_type": "code",
   "execution_count": 10,
   "metadata": {},
   "outputs": [],
   "source": [
    "class MultipleLinearRegression:\n",
    "    def __init__(self,learning_rate=0.01,iterations =1000):\n",
    "        self.learning_rate = learning_rate\n",
    "        self.iterations = iterations\n",
    "        self.beta = None\n",
    "\n",
    "    def predict(self ,x):\n",
    "        return np.dot(x,self.beta)\n",
    "\n",
    "    def cost_function(self,x,y):\n",
    "        n = len(y)\n",
    "        y_pred = self.predict(x)\n",
    "        return (1/n)* np.sum((y -y_pred)**2)\n",
    "    \n",
    "    def fit(self,x,y):\n",
    "        n , m = x.shape\n",
    "        self.beta = np.zeros(m)\n",
    "        for i in range(self.iterations):\n",
    "            y_pred = self.predict(x)\n",
    "            d_beta = (-2/n) * np.dot(x.T,(y-y_pred))\n",
    "            self.beta -= self.learning_rate * d_beta\n",
    "\n",
    "\n",
    "            if i%100==0:\n",
    "                cost = self.cost_function(x,y)\n",
    "                print(f\"Iteration {i} : Cost Function {cost:}\")\n",
    "\n",
    "    def add_intercept(self,x):\n",
    "        intercept = np.ones((x.shape[0],1))\n",
    "        return np.concatenate((intercept ,x),axis= 1)            "
   ]
  },
  {
   "cell_type": "code",
   "execution_count": 11,
   "metadata": {},
   "outputs": [
    {
     "name": "stdout",
     "output_type": "stream",
     "text": [
      "Iteration 0 : Cost Function 5.285977599999999\n",
      "Iteration 100 : Cost Function 1.2164063535870357\n",
      "Iteration 200 : Cost Function 0.675979566984573\n",
      "Iteration 300 : Cost Function 0.39031610362546926\n",
      "Iteration 400 : Cost Function 0.2393170632256839\n",
      "Iteration 500 : Cost Function 0.15950012612816578\n",
      "Iteration 600 : Cost Function 0.11730939248742021\n",
      "Iteration 700 : Cost Function 0.09500758556546503\n",
      "Iteration 800 : Cost Function 0.08321894244495368\n",
      "Iteration 900 : Cost Function 0.0769875048499519\n",
      "Coefficients (including intercept): [3.57885479 1.20333651 0.16414318]\n",
      "Predictions: [ 5.11047765  6.47795734  9.21291671  8.17372338 10.90868275]\n"
     ]
    }
   ],
   "source": [
    "x= np.array([[1, 2], [2, 3], [4, 5], [3, 6], [5, 8]], dtype=float)\n",
    "y = np.array([5, 7, 9, 8, 11], dtype=float)\n",
    "\n",
    "# Initialize the model\n",
    "model = MultipleLinearRegression(learning_rate=0.01, iterations=1000)\n",
    "\n",
    "# Add intercept to X\n",
    "X_with_intercept = model.add_intercept(x)\n",
    "\n",
    "# Fit the model to the data\n",
    "model.fit(X_with_intercept, y)\n",
    "\n",
    "# Make predictions\n",
    "y_pred = model.predict(X_with_intercept)\n",
    "\n",
    "# Print the final coefficients\n",
    "print(f\"Coefficients (including intercept): {model.beta}\")\n",
    "print(f\"Predictions: {y_pred}\")\n",
    "\n"
   ]
  },
  {
   "cell_type": "code",
   "execution_count": null,
   "metadata": {},
   "outputs": [],
   "source": []
  },
  {
   "cell_type": "code",
   "execution_count": null,
   "metadata": {},
   "outputs": [],
   "source": []
  }
 ],
 "metadata": {
  "kernelspec": {
   "display_name": "base",
   "language": "python",
   "name": "python3"
  },
  "language_info": {
   "codemirror_mode": {
    "name": "ipython",
    "version": 3
   },
   "file_extension": ".py",
   "mimetype": "text/x-python",
   "name": "python",
   "nbconvert_exporter": "python",
   "pygments_lexer": "ipython3",
   "version": "3.12.4"
  }
 },
 "nbformat": 4,
 "nbformat_minor": 2
}
