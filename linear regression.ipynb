{
 "cells": [
  {
   "cell_type": "code",
   "execution_count": 1,
   "metadata": {},
   "outputs": [],
   "source": [
    "import numpy as np\n",
    "import matplotlib.pyplot as plt"
   ]
  },
  {
   "cell_type": "code",
   "execution_count": 15,
   "metadata": {},
   "outputs": [],
   "source": [
    "# Linear Regression class\n",
    "class LinearRegressionScratch:\n",
    "    def __init__(self, learning_rate=0.01, iterations=1000):\n",
    "        self.learning_rate = learning_rate\n",
    "        self.iterations = iterations\n",
    "        self.beta_0 = 0  # intercept\n",
    "        self.beta_1 = 0  # slope\n",
    "\n",
    "    # Prediction function: y_pred = beta_0 + beta_1 * x\n",
    "    def predict(self, X):\n",
    "        return self.beta_0 + self.beta_1 * X\n",
    "\n",
    "    # Mean Squared Error cost function\n",
    "    def cost_function(self, X, y):\n",
    "        n = len(y)\n",
    "        y_pred = self.predict(X)\n",
    "        return (1 / n) * np.sum((y - y_pred) ** 2)\n",
    "\n",
    "    # Gradient descent function to optimize beta_0 and beta_1\n",
    "    def fit(self, X, y):\n",
    "        n = len(y)\n",
    "\n",
    "        # Gradient descent loop\n",
    "        for i in range(self.iterations):\n",
    "            y_pred = self.predict(X)\n",
    "\n",
    "            # Calculate gradients\n",
    "            d_beta_0 = (-2 / n) * np.sum(y - y_pred)\n",
    "            d_beta_1 = (-2 / n) * np.sum((y - y_pred) * X)\n",
    "\n",
    "            # Update parameters\n",
    "            self.beta_0 -= self.learning_rate * d_beta_0\n",
    "            self.beta_1 -= self.learning_rate * d_beta_1\n",
    "\n",
    "            # (Optional) Print the cost every 100 iterations\n",
    "            if i % 100 == 0:\n",
    "                cost = self.cost_function(X, y)\n",
    "                print(f\"Iteration {i}: Cost {cost:.4f}\")\n",
    "\n",
    "    # Plot the data and the best-fit line\n",
    "    def plot(self, X, y):\n",
    "        plt.scatter(X, y, color='blue', label='Data points')\n",
    "        plt.plot(X, self.predict(X), color='red', label='Best fit line')\n",
    "        plt.xlabel(\"X\")\n",
    "        plt.ylabel(\"y\")\n",
    "        plt.legend()\n",
    "        plt.show()\n",
    "\n"
   ]
  },
  {
   "cell_type": "code",
   "execution_count": null,
   "metadata": {},
   "outputs": [],
   "source": [
    "\n",
    "# Sample data (X and y)\n",
    "X = np.array([1, 2, 3, 4, 5], dtype=float)\n",
    "y = np.array([1, 2, 3, 4, 5], dtype=float)\n",
    "\n",
    "# Initialize and fit the model\n",
    "model = LinearRegressionScratch()\n",
    "model.fit(X, y)\n",
    "\n",
    "# Plot the regression line\n",
    "model.plot(X, y)\n",
    "\n",
    "# Print the final coefficients\n",
    "print(f\"Intercept (beta_0): {model.beta_0}\")\n",
    "print(f\"Slope (beta_1): {model.beta_1}\")"
   ]
  }
 ],
 "metadata": {
  "kernelspec": {
   "display_name": "base",
   "language": "python",
   "name": "python3"
  },
  "language_info": {
   "codemirror_mode": {
    "name": "ipython",
    "version": 3
   },
   "file_extension": ".py",
   "mimetype": "text/x-python",
   "name": "python",
   "nbconvert_exporter": "python",
   "pygments_lexer": "ipython3",
   "version": "3.12.4"
  }
 },
 "nbformat": 4,
 "nbformat_minor": 2
}
