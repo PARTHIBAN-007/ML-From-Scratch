{
 "cells": [
  {
   "cell_type": "code",
   "execution_count": 1,
   "metadata": {},
   "outputs": [],
   "source": [
    "import numpy as np"
   ]
  },
  {
   "cell_type": "code",
   "execution_count": 2,
   "metadata": {},
   "outputs": [],
   "source": [
    "class SVMClassification:\n",
    "    def __init__(self,learning_rate=0.1,lambda_param=0.01,n_iters=1000):\n",
    "        self.learning_rate = learning_rate\n",
    "        self.lambda_param = lambda_param\n",
    "        self.n_iters = n_iters\n",
    "        self.w = 0\n",
    "        self.b = 0\n",
    "\n",
    "    def fit(self,x,y):\n",
    "        n_samples,n_features , = x.shape\n",
    "        y_ = np.where(y<=0,-1,1)\n",
    "\n",
    "        self.w = np.zeros(n_features)\n",
    "        self.b = 0\n",
    "\n",
    "        for _ in range(self.n_iters):\n",
    "            for idx,x_i in enumerate(x):\n",
    "                condition = y_[idx] * (np.dot(x_i,self.w)- self.b)>=1\n",
    "\n",
    "                if condition:\n",
    "                    self.w -= self.learning_rate *  (2*self.lambda_param*self.w)\n",
    "\n",
    "                else:\n",
    "                    self.w -=   self.learning_rate *  (2*self.lambda_param*self.w-np.dot(x_i,y_[idx]))\n",
    "                    self.b -= self.learning_rate * y_[idx]\n",
    "\n",
    "    def predict(self,x):\n",
    "        linear_output = np.dot(x,self.w)-self.b\n",
    "        return np.sign(linear_output)                   "
   ]
  },
  {
   "cell_type": "code",
   "execution_count": 3,
   "metadata": {},
   "outputs": [
    {
     "name": "stdout",
     "output_type": "stream",
     "text": [
      "Classification Accuracy: 50.00%\n"
     ]
    }
   ],
   "source": [
    "# Example for Classification\n",
    "from sklearn.model_selection import train_test_split\n",
    "from sklearn import datasets\n",
    "\n",
    "# Load dataset\n",
    "X, y = datasets.make_blobs(n_samples=100, n_features=2, centers=2, cluster_std=1.05, random_state=40)\n",
    "\n",
    "# Split dataset\n",
    "X_train, X_test, y_train, y_test = train_test_split(X, y, test_size=0.2, random_state=42)\n",
    "\n",
    "# Initialize and train the model\n",
    "classifier = SVMClassification()\n",
    "classifier.fit(X_train, y_train)\n",
    "\n",
    "# Predict\n",
    "predictions = classifier.predict(X_test)\n",
    "\n",
    "# Accuracy\n",
    "accuracy = np.mean(predictions == y_test)\n",
    "print(f'Classification Accuracy: {accuracy * 100:.2f}%')\n"
   ]
  }
 ],
 "metadata": {
  "kernelspec": {
   "display_name": "base",
   "language": "python",
   "name": "python3"
  },
  "language_info": {
   "codemirror_mode": {
    "name": "ipython",
    "version": 3
   },
   "file_extension": ".py",
   "mimetype": "text/x-python",
   "name": "python",
   "nbconvert_exporter": "python",
   "pygments_lexer": "ipython3",
   "version": "3.12.4"
  }
 },
 "nbformat": 4,
 "nbformat_minor": 2
}
