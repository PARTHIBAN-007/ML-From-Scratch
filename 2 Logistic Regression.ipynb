{
 "cells": [
  {
   "cell_type": "code",
   "execution_count": 10,
   "metadata": {},
   "outputs": [],
   "source": [
    "import numpy as np"
   ]
  },
  {
   "cell_type": "code",
   "execution_count": 11,
   "metadata": {},
   "outputs": [],
   "source": [
    "class LogisticRegression:\n",
    "    def __init__(self,learning_rate=0.01,iterations = 1000):\n",
    "        self.learning_rate = learning_rate\n",
    "        self.iterations = iterations\n",
    "        self.beta =None\n",
    "\n",
    "    def sigmoid(self,z):\n",
    "        return 1/(1+np.exp(-z))\n",
    "\n",
    "    def predict_probaility(self,x):\n",
    "        z = np.dot(x,self.beta) \n",
    "        return self.sigmoid(z) \n",
    "\n",
    "    def predict(self,x):\n",
    "        return np.where(self.predict_probaility(x)>=0.5,1,0)\n",
    "    \n",
    "    def cost_function(self,x,y):\n",
    "        n = len(y)\n",
    "        y_pred = self.predict_probaility(x)\n",
    "        cost = -(1/n)*np.sum(y*np.log(y_pred)+(1-y)*np.log(1-y_pred))\n",
    "        return cost\n",
    "    \n",
    "    def fit(self,x,y):\n",
    "        n,m = x.shape\n",
    "        self.beta = np.zeros(m)\n",
    "\n",
    "        for i in range(self.iterations):\n",
    "            y_pred = self.predict_probaility(x)\n",
    "\n",
    "            gradient  = (1/n)*np.dot(x.T,(y_pred - y))\n",
    "\n",
    "            self.beta -= self.learning_rate * gradient \n",
    "\n",
    "            if i%100==0:\n",
    "                cost = self.cost_function(x,y)\n",
    "                print(f\"Iteration {i}: Cost {cost:.4f}\")\n",
    "\n",
    "\n",
    "    def add_intercept(self,x):\n",
    "        intercept = np.ones((x.shape[0],1))\n",
    "        return np.concatenate((intercept, x),axis =1)\n",
    "\n",
    "\n",
    "      \n",
    "    "
   ]
  },
  {
   "cell_type": "code",
   "execution_count": 12,
   "metadata": {},
   "outputs": [
    {
     "name": "stdout",
     "output_type": "stream",
     "text": [
      "Iteration 0: Cost 0.6834\n",
      "Iteration 100: Cost 0.5092\n",
      "Iteration 200: Cost 0.4430\n",
      "Iteration 300: Cost 0.4018\n",
      "Iteration 400: Cost 0.3741\n",
      "Iteration 500: Cost 0.3541\n",
      "Iteration 600: Cost 0.3390\n",
      "Iteration 700: Cost 0.3268\n",
      "Iteration 800: Cost 0.3168\n",
      "Iteration 900: Cost 0.3081\n",
      "Predictions: [0 0 1 1 1 1]\n",
      "Coefficients (including intercept): [-0.99014215  0.85126959 -0.92020393]\n"
     ]
    }
   ],
   "source": [
    "# Sample data (X and y) for binary classification\n",
    "X = np.array([[1, 2], [2, 3], [3, 1], [5, 2], [6, 3], [7, 2]], dtype=float)\n",
    "y = np.array([0, 0, 0, 1, 1, 1], dtype=float)\n",
    "\n",
    "# Initialize the model\n",
    "model = LogisticRegression(learning_rate=0.01, iterations=1000)\n",
    "\n",
    "# Add intercept to X\n",
    "X_with_intercept = model.add_intercept(X)\n",
    "\n",
    "# Fit the model\n",
    "model.fit(X_with_intercept, y)\n",
    "\n",
    "# Make predictions\n",
    "predictions = model.predict(X_with_intercept)\n",
    "\n",
    "# Print predictions and coefficients\n",
    "print(f\"Predictions: {predictions}\")\n",
    "print(f\"Coefficients (including intercept): {model.beta}\")"
   ]
  },
  {
   "cell_type": "code",
   "execution_count": null,
   "metadata": {},
   "outputs": [],
   "source": []
  }
 ],
 "metadata": {
  "kernelspec": {
   "display_name": "base",
   "language": "python",
   "name": "python3"
  },
  "language_info": {
   "codemirror_mode": {
    "name": "ipython",
    "version": 3
   },
   "file_extension": ".py",
   "mimetype": "text/x-python",
   "name": "python",
   "nbconvert_exporter": "python",
   "pygments_lexer": "ipython3",
   "version": "3.12.4"
  }
 },
 "nbformat": 4,
 "nbformat_minor": 2
}
