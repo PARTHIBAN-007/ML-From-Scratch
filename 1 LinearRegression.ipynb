{
 "cells": [
  {
   "cell_type": "code",
   "execution_count": 1,
   "metadata": {},
   "outputs": [],
   "source": [
    "import numpy as np\n",
    "class LinearRegressionScratch:\n",
    "    def __init__(self, learning_rate=0.01, iterations=1000):\n",
    "        self.learning_rate = learning_rate\n",
    "        self.iterations = iterations\n",
    "        self.beta_0 = 0 \n",
    "        self.beta_1 = 0  \n",
    "\n",
    "    def predict(self, X):\n",
    "        return self.beta_0 + self.beta_1 * X\n",
    "\n",
    "    def cost_function(self, X, y):\n",
    "        n = len(y)\n",
    "        y_pred = self.predict(X)\n",
    "        return (1 / n) * np.sum((y - y_pred) ** 2)\n",
    "\n",
    "    def fit(self, X, y):\n",
    "        n = len(y)\n",
    "\n",
    "        for i in range(self.iterations):\n",
    "            y_pred = self.predict(X)\n",
    "            \n",
    "\n",
    "            d_beta_0 = (-2 / n) * np.sum(y - y_pred)\n",
    "            d_beta_1 = (-2 / n) * np.sum((y - y_pred) * X)\n",
    "\n",
    "            self.beta_0 -= self.learning_rate * d_beta_0\n",
    "            self.beta_1 -= self.learning_rate * d_beta_1\n",
    "\n",
    "            if i % 100 == 0:\n",
    "                cost = self.cost_function(X, y)\n",
    "                print(f\"Iteration {i}: Cost {cost:.4f}\")\n",
    "\n",
    "\n"
   ]
  },
  {
   "cell_type": "code",
   "execution_count": 2,
   "metadata": {},
   "outputs": [
    {
     "name": "stdout",
     "output_type": "stream",
     "text": [
      "Iteration 0: Cost 6.4152\n",
      "Iteration 100: Cost 0.0061\n",
      "Iteration 200: Cost 0.0031\n",
      "Iteration 300: Cost 0.0016\n",
      "Iteration 400: Cost 0.0008\n",
      "Iteration 500: Cost 0.0004\n",
      "Iteration 600: Cost 0.0002\n",
      "Iteration 700: Cost 0.0001\n",
      "Iteration 800: Cost 0.0001\n",
      "Iteration 900: Cost 0.0000\n",
      "Intercept (beta_0) : 0.008700231670305317\n",
      "Slope (beta_1) : 0.9975901753359889\n"
     ]
    }
   ],
   "source": [
    "X = np.array([1, 2, 3, 4, 5], dtype=float)\n",
    "y = np.array([1, 2, 3, 4, 5], dtype=float)\n",
    "\n",
    "model = LinearRegressionScratch()\n",
    "\n",
    "model.fit(X, y)\n",
    "\n",
    "\n",
    "print(f\"Intercept (beta_0) : {model.beta_0}\")\n",
    "print(f\"Slope (beta_1) : {model.beta_1}\")"
   ]
  },
  {
   "cell_type": "code",
   "execution_count": null,
   "metadata": {},
   "outputs": [],
   "source": []
  }
 ],
 "metadata": {
  "kernelspec": {
   "display_name": "base",
   "language": "python",
   "name": "python3"
  },
  "language_info": {
   "codemirror_mode": {
    "name": "ipython",
    "version": 3
   },
   "file_extension": ".py",
   "mimetype": "text/x-python",
   "name": "python",
   "nbconvert_exporter": "python",
   "pygments_lexer": "ipython3",
   "version": "3.12.4"
  }
 },
 "nbformat": 4,
 "nbformat_minor": 2
}
